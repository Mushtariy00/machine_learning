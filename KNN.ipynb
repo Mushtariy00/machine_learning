{
 "cells": [
  {
   "cell_type": "code",
   "execution_count": 1,
   "id": "31ffb2bf",
   "metadata": {},
   "outputs": [],
   "source": [
    "from collections import Counter\n",
    "import numpy as np\n",
    "from sklearn import datasets\n",
    "from sklearn.model_selection import train_test_split"
   ]
  },
  {
   "cell_type": "code",
   "execution_count": 22,
   "id": "1325f49f",
   "metadata": {},
   "outputs": [],
   "source": [
    "# Distance calculation\n",
    "def euclidean_distance(x1, x2):\n",
    "    return np.sqrt(np.sum(x1 - x2) ** 2)"
   ]
  },
  {
   "cell_type": "code",
   "execution_count": 23,
   "id": "1506c2b5",
   "metadata": {},
   "outputs": [],
   "source": [
    "# KNN class\n",
    "class KNN:\n",
    "    def __init__(self, k=3):\n",
    "        self.k = k\n",
    "        \n",
    "    def fit(self, X, y):\n",
    "        selfX_train = X\n",
    "        self.y_train = y\n",
    "        \n",
    "    def predict(self, X):\n",
    "        y_pred = [self.helper(x) for x in X]\n",
    "        return np.array(y_pred)\n",
    "    \n",
    "    def helper(self, x):\n",
    "        distances = [euclidean_distance(x, x_train) for x_train in self.X_train]\n",
    "        k_idx = np.argsort(distances)[: self.k]\n",
    "        k_neighbor_labels = [self.y_train[i] for i in k_idx]\n",
    "        most_common = Counter (k_neighbor_labels).most_common(1)\n",
    "        return most_common[0][0]"
   ]
  },
  {
   "cell_type": "code",
   "execution_count": 33,
   "id": "4d78f01e",
   "metadata": {},
   "outputs": [
    {
     "ename": "IndentationError",
     "evalue": "unexpected indent (125119115.py, line 2)",
     "output_type": "error",
     "traceback": [
      "\u001b[0;36m  Cell \u001b[0;32mIn [33], line 2\u001b[0;36m\u001b[0m\n\u001b[0;31m    def accuracy(y_true, y_pred):\u001b[0m\n\u001b[0m    ^\u001b[0m\n\u001b[0;31mIndentationError\u001b[0m\u001b[0;31m:\u001b[0m unexpected indent\n"
     ]
    }
   ],
   "source": [
    "# Implementation model and results\n",
    "    def accuracy(y_true, y_pred):\n",
    "        accuracy = np.sum(y_true == y_pred / len(y_true)\n",
    "        return accuracy\n",
    "                      \n",
    "        mnist = datasets.load_digits()\n",
    "        X = mnist.data\n",
    "        y = mnist.target\n",
    "\n",
    "        X_train, X_test, y_train, y_test = train_test_split(\n",
    "                X,y, test_size=0.2, random_state=42)\n",
    "        k = 5\n",
    "        model = KNN(k=k)\n",
    "        model.fit(X_train, y_train)\n",
    "        predictions = model.predict(X_test)\n",
    "        print(\"KNN test accuracy\", accuracy(y_test, predictions))                     "
   ]
  },
  {
   "cell_type": "code",
   "execution_count": null,
   "id": "eac443f6",
   "metadata": {},
   "outputs": [],
   "source": []
  },
  {
   "cell_type": "code",
   "execution_count": null,
   "id": "cf37d582",
   "metadata": {},
   "outputs": [],
   "source": []
  }
 ],
 "metadata": {
  "kernelspec": {
   "display_name": "Python 3 (ipykernel)",
   "language": "python",
   "name": "python3"
  },
  "language_info": {
   "codemirror_mode": {
    "name": "ipython",
    "version": 3
   },
   "file_extension": ".py",
   "mimetype": "text/x-python",
   "name": "python",
   "nbconvert_exporter": "python",
   "pygments_lexer": "ipython3",
   "version": "3.9.12"
  }
 },
 "nbformat": 4,
 "nbformat_minor": 5
}
