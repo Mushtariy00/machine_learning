{
 "cells": [
  {
   "cell_type": "markdown",
   "id": "31d3abd9",
   "metadata": {},
   "source": [
    " Abdurakhmonova Mushtariy\n",
    " Student number: 201939183\n",
    " Code: 20220915"
   ]
  },
  {
   "cell_type": "code",
   "execution_count": 3,
   "id": "adb98290",
   "metadata": {},
   "outputs": [],
   "source": [
    "import pandas as pd\n",
    "import matplotlib.pyplot as plt\n",
    "import numpy as np"
   ]
  },
  {
   "cell_type": "code",
   "execution_count": 8,
   "id": "aa74fc23",
   "metadata": {},
   "outputs": [
    {
     "name": "stdout",
     "output_type": "stream",
     "text": [
      "    size   price\n",
      "0   2104  399900\n",
      "1   1600  329900\n",
      "2   2400  369000\n",
      "3   1416  232000\n",
      "4   3000  539900\n",
      "5   1985  299900\n",
      "6   1534  314900\n",
      "7   1427  198999\n",
      "8   1380  212000\n",
      "9   1494  242500\n",
      "10  1940  239999\n",
      "11  2000  347000\n",
      "12  1890  329999\n",
      "13  4478  699900\n",
      "14  1268  259900\n",
      "15  2300  449900\n",
      "16  1320  299900\n",
      "17  1236  199900\n",
      "18  2609  499998\n",
      "19  3031  599000\n",
      "20  1767  252900\n",
      "21  1888  255000\n",
      "22  1604  242900\n",
      "23  1962  259900\n",
      "24  3890  573900\n",
      "25  1100  249900\n",
      "26  1458  464500\n",
      "27  2526  469000\n",
      "28  2200  475000\n",
      "29  2637  299900\n",
      "30  1839  349900\n",
      "31  1000  169900\n",
      "32  2040  314900\n",
      "33  3137  579900\n",
      "34  1811  285900\n",
      "35  1437  249900\n",
      "36  1239  229900\n",
      "37  2132  345000\n",
      "38  4215  549000\n",
      "39  2162  287000\n",
      "40  1664  368500\n",
      "41  2238  329900\n",
      "42  2567  314000\n",
      "43  1200  299000\n",
      "44   852  179900\n",
      "45  1852  299900\n",
      "46  1203  239500\n"
     ]
    }
   ],
   "source": [
    "df = pd.read_csv('/Users/mushtariy/Downloads/house_data.txt',usecols = [0,2], names =['size','price'])\n",
    "df.head(10)\n",
    "print(df)"
   ]
  },
  {
   "cell_type": "code",
   "execution_count": 16,
   "id": "14a9ea07",
   "metadata": {},
   "outputs": [
    {
     "ename": "NameError",
     "evalue": "name 'df' is not defined",
     "output_type": "error",
     "traceback": [
      "\u001b[0;31m---------------------------------------------------------------------------\u001b[0m",
      "\u001b[0;31mNameError\u001b[0m                                 Traceback (most recent call last)",
      "Cell \u001b[0;32mIn [16], line 20\u001b[0m\n\u001b[1;32m     17\u001b[0m         B1 \u001b[38;5;241m=\u001b[39m B1\u001b[38;5;241m-\u001b[39ml_r\u001b[38;5;241m*\u001b[39m (\u001b[38;5;241m1\u001b[39m\u001b[38;5;241m/\u001b[39mn)\u001b[38;5;241m*\u001b[39m\u001b[38;5;28msum\u001b[39m (d_B1)\n\u001b[1;32m     19\u001b[0m     \u001b[38;5;28;01mreturn\u001b[39;00m B0,B1\n\u001b[0;32m---> 20\u001b[0m B0,B1 \u001b[38;5;241m=\u001b[39m \u001b[43mgradient_descent\u001b[49m\u001b[43m(\u001b[49m\u001b[38;5;241;43m0.001\u001b[39;49m\u001b[43m,\u001b[49m\u001b[38;5;241;43m1000\u001b[39;49m\u001b[43m)\u001b[49m\n\u001b[1;32m     21\u001b[0m \u001b[38;5;28mprint\u001b[39m(\u001b[38;5;124m'\u001b[39m\u001b[38;5;124mintercept_term(B0):\u001b[39m\u001b[38;5;124m'\u001b[39m,B0,\u001b[38;5;124m'\u001b[39m\u001b[38;5;130;01m\\n\u001b[39;00m\u001b[38;5;124m'\u001b[39m,\u001b[38;5;124m'\u001b[39m\u001b[38;5;124mslope(B1):\u001b[39m\u001b[38;5;124m'\u001b[39m,B1)\n",
      "Cell \u001b[0;32mIn [16], line 2\u001b[0m, in \u001b[0;36mgradient_descent\u001b[0;34m(l_r, iteration)\u001b[0m\n\u001b[1;32m      1\u001b[0m \u001b[38;5;28;01mdef\u001b[39;00m \u001b[38;5;21mgradient_descent\u001b[39m(l_r , iteration):\n\u001b[0;32m----> 2\u001b[0m     x \u001b[38;5;241m=\u001b[39m \u001b[43mdf\u001b[49m[\u001b[38;5;124m'\u001b[39m\u001b[38;5;124msize\u001b[39m\u001b[38;5;124m'\u001b[39m]\u001b[38;5;241m.\u001b[39mvalues\u001b[38;5;241m/\u001b[39m\u001b[38;5;241m1000\u001b[39m \n\u001b[1;32m      3\u001b[0m     y \u001b[38;5;241m=\u001b[39m df[\u001b[38;5;124m'\u001b[39m\u001b[38;5;124mprice\u001b[39m\u001b[38;5;124m'\u001b[39m]\u001b[38;5;241m.\u001b[39mvalues\u001b[38;5;241m/\u001b[39m\u001b[38;5;241m1000\u001b[39m\n\u001b[1;32m      4\u001b[0m     n \u001b[38;5;241m=\u001b[39m \u001b[38;5;28mlen\u001b[39m(x)\n",
      "\u001b[0;31mNameError\u001b[0m: name 'df' is not defined"
     ]
    }
   ],
   "source": [
    "def gradient_descent(l_r , iteration):\n",
    "    x = df['size'].values/1000 \n",
    "    y = df['price'].values/1000\n",
    "    n = len(x)\n",
    "    B0 = 0 \n",
    "    B1 = 0\n",
    "    for _ in range (iteration):\n",
    "        d_B0 = []\n",
    "        d_B1 = []\n",
    "        for i in range(n):\n",
    "            \n",
    "            d_B0.append((B0+B1*x[i])-y[i])\n",
    "            d_B1.append(((B0+B1*x[i])-y[i])*x[i])\n",
    "            \n",
    "        B0 = B0-l_r* (1/n)*sum (d_B0)\n",
    "        B1 = B1-l_r* (1/n)*sum (d_B1)\n",
    "        \n",
    "    return B0,B1\n",
    "B0,B1 = gradient_descent(0.001,1000)\n",
    "print('intercept_term(B0):',B0,'\\n','slope(B1):',B1)"
   ]
  },
  {
   "cell_type": "code",
   "execution_count": 10,
   "id": "891f7e6c",
   "metadata": {},
   "outputs": [
    {
     "ename": "NameError",
     "evalue": "name 'B0' is not defined",
     "output_type": "error",
     "traceback": [
      "\u001b[0;31m---------------------------------------------------------------------------\u001b[0m",
      "\u001b[0;31mNameError\u001b[0m                                 Traceback (most recent call last)",
      "Cell \u001b[0;32mIn [10], line 1\u001b[0m\n\u001b[0;32m----> 1\u001b[0m hypothesis \u001b[38;5;241m=\u001b[39m \u001b[43mB0\u001b[49m\u001b[38;5;241m+\u001b[39mnp\u001b[38;5;241m.\u001b[39mdot(B1,[\u001b[38;5;241m0\u001b[39m,\u001b[38;5;241m4\u001b[39m])\n\u001b[1;32m      2\u001b[0m x\u001b[38;5;241m=\u001b[39m[\u001b[38;5;241m0\u001b[39m,\u001b[38;5;241m4\u001b[39m]\n\u001b[1;32m      3\u001b[0m plt\u001b[38;5;241m.\u001b[39mfigure(figsize\u001b[38;5;241m=\u001b[39m(\u001b[38;5;241m8\u001b[39m,\u001b[38;5;241m6\u001b[39m))\n",
      "\u001b[0;31mNameError\u001b[0m: name 'B0' is not defined"
     ]
    }
   ],
   "source": [
    "hypothesis = B0+np.dot(B1,[0,4])\n",
    "x=[0,4]\n",
    "plt.figure(figsize=(8,6))\n",
    "plt.scatter (df['size']/1000,df['price']/1000, c ='b',marker='*' ,s=70, alpha=0.7)\n",
    "plt.plot(x,hypothesis, c='r')\n",
    "plt.xlabel('Size(areax1000)',size=15)\n",
    "plt.ylabel('Price(in US x 1000)', size=13)\n",
    "plt.title('Housing Prices',size=13)\n",
    "plt.plot()\n",
    "plt.xlim(0,4)\n",
    "plt.ylim(0,700)"
   ]
  },
  {
   "cell_type": "code",
   "execution_count": null,
   "id": "4e2a6c77",
   "metadata": {},
   "outputs": [],
   "source": []
  }
 ],
 "metadata": {
  "kernelspec": {
   "display_name": "Python 3.10.1 64-bit",
   "language": "python",
   "name": "python3"
  },
  "language_info": {
   "codemirror_mode": {
    "name": "ipython",
    "version": 3
   },
   "file_extension": ".py",
   "mimetype": "text/x-python",
   "name": "python",
   "nbconvert_exporter": "python",
   "pygments_lexer": "ipython3",
   "version": "3.10.1"
  },
  "vscode": {
   "interpreter": {
    "hash": "aee8b7b246df8f9039afb4144a1f6fd8d2ca17a180786b69acc140d282b71a49"
   }
  }
 },
 "nbformat": 4,
 "nbformat_minor": 5
}
