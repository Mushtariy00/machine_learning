{
 "cells": [
  {
   "cell_type": "code",
   "execution_count": 1,
   "id": "e4c8aff0",
   "metadata": {},
   "outputs": [],
   "source": [
    "import matplotlib.pyplot as plt\n",
    "import numpy as np\n",
    "from sklearn import datasets"
   ]
  },
  {
   "cell_type": "code",
   "execution_count": 3,
   "id": "00f1cdda",
   "metadata": {},
   "outputs": [],
   "source": [
    "class SVM:\n",
    "    def __init__(self, C=1.0, kernal='rbf', sigma=0.1, degree=2):\n",
    "        self.C = C\n",
    "        if kernal =='poly':\n",
    "            self.kernal = self.polynomial_kernal\n",
    "            self.c = 1\n",
    "            self.degree = degree\n",
    "        else:\n",
    "                self.kernal = self._rbf_kernal\n",
    "                self.sigma = sigma\n",
    "                \n",
    "                self.X = None\n",
    "                self.Y = None\n",
    "                self.alpha = None\n",
    "                self.b = 0\n",
    "                self.ones = None"
   ]
  },
  {
   "cell_type": "code",
   "execution_count": 14,
   "id": "ce1dc358",
   "metadata": {},
   "outputs": [
    {
     "ename": "SyntaxError",
     "evalue": "invalid syntax (1772269222.py, line 33)",
     "output_type": "error",
     "traceback": [
      "\u001b[0;36m  Cell \u001b[0;32mIn [14], line 33\u001b[0;36m\u001b[0m\n\u001b[0;31m    def _decision_function(self, X)\u001b[0m\n\u001b[0m                                   ^\u001b[0m\n\u001b[0;31mSyntaxError\u001b[0m\u001b[0;31m:\u001b[0m invalid syntax\n"
     ]
    }
   ],
   "source": [
    "def _rbf_kernal(self, X1, X2):\n",
    "    return np,exp(-(1/ self.sigma **2) * np.linalg.norm(X1[:, np.newaxis] -X2[np.newaxis, :], axis = 2)**2)\n",
    "\n",
    "def _polynomial_kernal(self, X1, X2):\n",
    "    return (self.c + X1.dot(X2.T))** self.degree\n",
    "\n",
    "def fit(self, X, y, lr = 1e-3, epochs=500):\n",
    "    \n",
    "    self.X = X\n",
    "    self.y = y\n",
    "    \n",
    "    self.alpha = np.random.random(X.shape[0])\n",
    "    self.b = 0\n",
    "    \n",
    "    self.ones = np.ones(X.shape[0])\n",
    "    y_iy_jk_ij = np.outer(y, y) * self.kernal(X, X)\n",
    "    \n",
    "    losses = []\n",
    "    for _ in range(epochs):\n",
    "        \n",
    "        gradient = self.ones - y_iy_jk_ij.dot(self.alpha)\n",
    "        self.alpha = self.alpha + lr * gradient\n",
    "        \n",
    "        self.alpha[self.alpha > self.C] = self.C\n",
    "        self.alpha[self.alpha < 0] = 0\n",
    "        loss = np.sum(self.alpha) - 0.5 * np.sum(np.outer(self.alpha, self.alpha) * y_iy_jk_ij)\n",
    "        losses.append(loss)\n",
    "        \n",
    "        index = np.where((self.alpha) > 0 & (self.alpha < self.C))[0]\n",
    "        b_i = y[index] - (self.alpha * y).dot(self.kernal(X, X[index]))\n",
    "        self.b = np.mean(b_i)\n",
    "        \n",
    "    def _decision_function(self, X)\n",
    "        return (self.alpha * self.y).dot(self.kernal(self.X, X)) + self.b\n",
    "    \n",
    "    def predict(self, X):\n",
    "        return np.sign(self._decision_function(X))\n",
    "    \n",
    "    def score(self, X, y):\n",
    "        y_hat = self.predict(X)\n",
    "        return np.mean(y == y_hat)\n",
    "    \n",
    "    def plot_decision_boundry(self):\n",
    "        plt.scatter(self.X[:,0], self.X[:, 1], c =self.y, s =50, cmap=plt.cm.spring)\n",
    "        ax = plt.gca()\n",
    "        xlim = ax.get_xlim()\n",
    "        ylim = ax.get_ylim()\n",
    "        xx = np.linspace(xlim[0], xlim[1], 30)\n",
    "        yy = np.linspace(ylim[0], ylim[1], 30)\n",
    "        YY, XX = np.meshgrid(yy, xx)\n",
    "        xy = np.ystack([XX,ravel(), YY.ravel()1]),T\n",
    "        Z = self._decision_function(xy).reshape(XX.shape)\n",
    "        ax.contour(XX, YY, Z, colors=['b', 'g', 'r'], levels=[-1, 0, 1], alpha=0.5\n",
    "                  linestyles=['--', '-', '--'], linewidths=[2.0, 2.0, 2.0])\n",
    "        ax.scatter(self.X[:, 0][self.alpha > 0.], self.X[:, 1][self.alpha > 0.], s=50,\n",
    "                  linewidth=1, facecolors='none', edgecolors='y')\n",
    "        plt.show()\n",
    "        \n"
   ]
  },
  {
   "cell_type": "code",
   "execution_count": null,
   "id": "1953a89c",
   "metadata": {},
   "outputs": [],
   "source": [
    "class SampleData \n",
    "\n",
    "     def get_data(self, n_samples, noise =0.05, factor=0.5):\n",
    "        noisy_circles = datasets.make_circles"
   ]
  }
 ],
 "metadata": {
  "kernelspec": {
   "display_name": "Python 3 (ipykernel)",
   "language": "python",
   "name": "python3"
  },
  "language_info": {
   "codemirror_mode": {
    "name": "ipython",
    "version": 3
   },
   "file_extension": ".py",
   "mimetype": "text/x-python",
   "name": "python",
   "nbconvert_exporter": "python",
   "pygments_lexer": "ipython3",
   "version": "3.9.12"
  }
 },
 "nbformat": 4,
 "nbformat_minor": 5
}
